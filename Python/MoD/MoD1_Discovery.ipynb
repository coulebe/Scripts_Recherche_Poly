{
 "cells": [
  {
   "cell_type": "markdown",
   "metadata": {},
   "source": [
    "# Model discovery MoD1"
   ]
  },
  {
   "attachments": {},
   "cell_type": "markdown",
   "metadata": {},
   "source": [
    "In this notebook, we'll discover model of EWH1 (OSO300L) form the TB datat in MoD1, i.e., we have Temperature, draw debit(m³/s), and power consumption(W)"
   ]
  },
  {
   "cell_type": "code",
   "execution_count": 15,
   "metadata": {},
   "outputs": [
    {
     "name": "stdout",
     "output_type": "stream",
     "text": [
      "cuda\n"
     ]
    }
   ],
   "source": [
    "# General imports\n",
    "import numpy as np\n",
    "import torch\n",
    "import matplotlib.pylab as plt\n",
    "import tkinter as tk\n",
    "from tkinter import filedialog\n",
    "import os\n",
    "\n",
    "#Function file import\n",
    "import DeepMod_Functions as DD_func\n",
    "# DeepMoD functions\n",
    "\n",
    "\n",
    "from deepymod import DeepMoD\n",
    "from deepymod.data import Dataset, get_train_test_loader\n",
    "from deepymod.data.samples import Subsample_random\n",
    "from deepymod.model.func_approx import NN\n",
    "from deepymod.model.constraint import LeastSquares, GradParams, Ridge\n",
    "from deepymod.model.sparse_estimators import Threshold, PDEFIND\n",
    "from deepymod.training import train\n",
    "from deepymod.training.sparsity_scheduler import TrainTestPeriodic\n",
    "from scipy.io import loadmat\n",
    "\n",
    "\n",
    "import torch\n",
    "from torch.autograd import grad\n",
    "from itertools import combinations\n",
    "from functools import reduce\n",
    "from typing import Tuple\n",
    "from deepymod.utils.types import TensorList\n",
    "from deepymod import Library\n",
    "\n",
    "from scipy.integrate import odeint\n",
    "\n",
    "\n",
    "# Settings for reproducibility\n",
    "np.random.seed(40)\n",
    "torch.manual_seed(0)\n",
    "\n",
    "# Configuring GPU or CPU\n",
    "if torch.cuda.is_available():\n",
    "    device = \"cuda\"\n",
    "    torch.cuda.empty_cache()\n",
    "else:\n",
    "    device = \"cpu\"\n",
    "print(device)"
   ]
  },
  {
   "attachments": {},
   "cell_type": "markdown",
   "metadata": {},
   "source": [
    "Before we send the data into the Dataset format, create a plot to get an idea of the data:\n"
   ]
  },
  {
   "cell_type": "code",
   "execution_count": 16,
   "metadata": {},
   "outputs": [
    {
     "data": {
      "image/png": "[encoded data removed]",
      "text/plain": [
       "<Figure size 640x480 with 2 Axes>"
      ]
     },
     "metadata": {},
     "output_type": "display_data"
    }
   ],
   "source": [
    "#Asking the filename to the user(It will be a .npy file for the moment we'll see after if we need to import other fomat as .mat or ohter, think of a preprocess script for the essay datas at Canmet)\n",
    "application_window = tk.Tk() \n",
    "fTyp = [(\"fichier de données (*.npy)\", \"*.npy\")]\n",
    "file_name = filedialog.askopenfilename(parent=application_window,\n",
    "                                    initialdir=os.getcwd(),\n",
    "                                    title=\"Please select your npy file containing the datas and its coords:\",\n",
    "                                    filetypes=fTyp)\n",
    "\n",
    "\n",
    "application_window.destroy()\n",
    "#Display the data \n",
    "data = np.load(file_name, allow_pickle=True).item()\n",
    "fig, ax = plt.subplots()\n",
    "im = ax.contourf(data['t']/3600, data['x'], np.real(data['T']))\n",
    "ax.set_xlabel('t(h)')\n",
    "ax.set_ylabel('x(m)')\n",
    "fig.colorbar(mappable=im)\n",
    "\n",
    "plt.show()"
   ]
  },
  {
   "attachments": {},
   "cell_type": "markdown",
   "metadata": {},
   "source": [
    "We can now pass the function that loads the data to the DeePyMoD Dataset module, which loads the data, preprocesses it, subsamples it and then sends it to the right device."
   ]
  },
  {
   "cell_type": "code",
   "execution_count": 17,
   "metadata": {},
   "outputs": [
    {
     "name": "stdout",
     "output_type": "stream",
     "text": [
      "Dataset is using device:  cuda\n"
     ]
    }
   ],
   "source": [
    "dataset = Dataset(\n",
    "    load_function= DD_func.load_MoD1,\n",
    "    subsampler=Subsample_random,\n",
    "    subsampler_kwargs={\"number_of_samples\": 500000, \n",
    "    },\n",
    "    load_kwargs= {\"file\": file_name},\n",
    "     preprocess_kwargs={\n",
    "        \"normalize_coords\": True,\n",
    "        \"normalize_data\":  True\n",
    "    }, \n",
    "    device=device,\n",
    "    apply_normalize= DD_func.custom_normalize,\n",
    ")\n",
    " \n",
    "#Now we need to split our data into a train and test dataloaders for PyTorch\n",
    "train_dataloader, test_dataloader = get_train_test_loader(dataset, train_test_split=0.7)\n"
   ]
  },
  {
   "attachments": {},
   "cell_type": "markdown",
   "metadata": {},
   "source": [
    "## Configuring DeepMoD\n",
    "\n",
    "Configuration of the function approximator: Here the first argument is the number of input and the last argument the number of output layers."
   ]
  },
  {
   "cell_type": "code",
   "execution_count": 18,
   "metadata": {},
   "outputs": [],
   "source": [
    "network = NN(5, [30, 30, 30, 30], 1)"
   ]
  },
  {
   "attachments": {},
   "cell_type": "markdown",
   "metadata": {},
   "source": [
    "Configuration of the library function: We select the custom build library we created earlier\n",
    "* [$1, (T - T_{a}), \\frac{\\partial^{2} T}{\\partial x^{2}}, V \\frac{\\partial T}{\\partial x}$] "
   ]
  },
  {
   "cell_type": "code",
   "execution_count": 19,
   "metadata": {},
   "outputs": [],
   "source": [
    "Library = DD_func.Library_MoD1()"
   ]
  },
  {
   "attachments": {},
   "cell_type": "markdown",
   "metadata": {},
   "source": [
    "Configuration of the sparsity estimator and sparsity scheduler used. In this case we use the most basic threshold-based Lasso estimator and a scheduler that asseses the validation loss after a given patience. If that value is smaller than 1e-8, the algorithm is converged."
   ]
  },
  {
   "cell_type": "code",
   "execution_count": 20,
   "metadata": {},
   "outputs": [],
   "source": [
    "#Sparsity scheduler\n",
    "estimator = Threshold(1e-5)\n",
    "sparsity_scheduler = TrainTestPeriodic(periodicity=50, patience=200, delta=1e-5)\n",
    "\n",
    "#Configuration of the sparsity estimator\n",
    "constraint = LeastSquares()\n",
    "\n",
    "# Now, we instantiate the model and select the optimizer\n",
    "model = DeepMoD(network, Library, estimator, constraint).to(device)\n",
    "\n",
    "#Defining optimizer\n",
    "optimizer = torch.optim.Adam(\n",
    "    model.parameters(), betas=(0.99, 0.99), amsgrad=True, lr=1e-3\n",
    ")"
   ]
  },
  {
   "attachments": {},
   "cell_type": "markdown",
   "metadata": {},
   "source": [
    "## Run DeepMoD\n",
    "\n",
    "We can now run DeepMoD using all the options we have set and the training data. We need to slightly preprocess the input data for the derivatives:"
   ]
  },
  {
   "cell_type": "code",
   "execution_count": 21,
   "metadata": {},
   "outputs": [
    {
     "name": "stdout",
     "output_type": "stream",
     "text": [
      "  2525  MSE: 2.21e-02  Reg: 1.76e-04  L1: 1.30e+00 "
     ]
    }
   ],
   "source": [
    "train(\n",
    "    model,\n",
    "    train_dataloader,\n",
    "    test_dataloader,\n",
    "    optimizer,\n",
    "    sparsity_scheduler,\n",
    "    log_dir= os.getcwd() + \"\\\\Logdir\\\\MoD1\\\\\" ,\n",
    "    max_iterations=10000,\n",
    "    delta=1e-5,\n",
    "    patience=200\n",
    ")"
   ]
  },
  {
   "attachments": {},
   "cell_type": "markdown",
   "metadata": {},
   "source": [
    "Now that DeepMoD has converged, it has found the following coefficients to not be zero: "
   ]
  },
  {
   "cell_type": "code",
   "execution_count": null,
   "metadata": {},
   "outputs": [
    {
     "data": {
      "text/plain": [
       "[tensor([True, True, True, True, True, True])]"
      ]
     },
     "execution_count": 33,
     "metadata": {},
     "output_type": "execute_result"
    }
   ],
   "source": [
    "model.sparsity_masks"
   ]
  },
  {
   "attachments": {},
   "cell_type": "markdown",
   "metadata": {},
   "source": [
    "And it found the following coefficients."
   ]
  },
  {
   "cell_type": "code",
   "execution_count": null,
   "metadata": {},
   "outputs": [
    {
     "data": {
      "text/plain": [
       "[array([[ 0.        ],\n",
       "        [ 0.        ],\n",
       "        [ 0.5208883 ],\n",
       "        [-0.44284773],\n",
       "        [ 0.31321692],\n",
       "        [ 0.        ]], dtype=float32)]"
      ]
     },
     "execution_count": 34,
     "metadata": {},
     "output_type": "execute_result"
    }
   ],
   "source": [
    "model.estimator_coeffs()"
   ]
  },
  {
   "attachments": {},
   "cell_type": "markdown",
   "metadata": {},
   "source": [
    "Then the absolute value of the coefficients\n",
    "* [$1, (T - T_{a}), \\frac{\\partial^{2} T}{\\partial x^{2}}, V \\frac{\\partial T}{\\partial x}$]\n"
   ]
  },
  {
   "cell_type": "code",
   "execution_count": null,
   "metadata": {},
   "outputs": [
    {
     "name": "stdout",
     "output_type": "stream",
     "text": [
      "[ 0.0000000e+00  0.0000000e+00  2.0980783e+00 -5.8194232e+00\n",
      "  2.8217288e+05  0.0000000e+00]\n"
     ]
    }
   ],
   "source": [
    "print(model.library.norms[0].cpu().numpy() * model.estimator_coeffs()[0][:,0])\n",
    "coeff_norm = model.library.norms[0].cpu().numpy() * model.estimator_coeffs()[0][:,0]"
   ]
  },
  {
   "attachments": {},
   "cell_type": "markdown",
   "metadata": {},
   "source": [
    "We have now to denormalize it a second time because, we just have the relation for the normalized(data and coords) terms of the equation"
   ]
  },
  {
   "cell_type": "code",
   "execution_count": null,
   "metadata": {},
   "outputs": [],
   "source": [
    "#TODO"
   ]
  }
 ],
 "metadata": {
  "kernelspec": {
   "display_name": "py38",
   "language": "python",
   "name": "python3"
  },
  "language_info": {
   "codemirror_mode": {
    "name": "ipython",
    "version": 3
   },
   "file_extension": ".py",
   "mimetype": "text/x-python",
   "name": "python",
   "nbconvert_exporter": "python",
   "pygments_lexer": "ipython3",
   "version": "3.8.13"
  },
  "orig_nbformat": 4,
  "vscode": {
   "interpreter": {
    "hash": "5ab16ecb9e09b4be58fd311ca68db391fee701f68d8b096f7dd82119d0e71b06"
   }
  }
 },
 "nbformat": 4,
 "nbformat_minor": 2
}
