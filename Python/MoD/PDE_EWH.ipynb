{
 "cells": [
  {
   "cell_type": "markdown",
   "metadata": {},
   "source": [
    "## Model discovery for PDE\n",
    "\n",
    "In this notebook we use the DeepMoD algorithm applied on the the PDE of an EWH. This version is just a test on the simulation datas. A final version will be developped when we have access to test bench again.\n",
    "\n",
    "We start by importing the required DeepMoD functions:"
   ]
  },
  {
   "cell_type": "code",
   "execution_count": 13,
   "metadata": {},
   "outputs": [
    {
     "name": "stdout",
     "output_type": "stream",
     "text": [
      "cpu\n"
     ]
    }
   ],
   "source": [
    "# General imports\n",
    "import numpy as np\n",
    "import torch\n",
    "import matplotlib.pylab as plt\n",
    "\n",
    "# DeepMoD functions\n",
    "\n",
    "\n",
    "from deepymod import DeepMoD\n",
    "from deepymod.data import Dataset, get_train_test_loader\n",
    "from deepymod.data.samples import Subsample_random\n",
    "from deepymod.model.func_approx import NN\n",
    "from deepymod.model.constraint import LeastSquares\n",
    "from deepymod.model.sparse_estimators import Threshold, PDEFIND\n",
    "from deepymod.training import train\n",
    "from deepymod.training.sparsity_scheduler import TrainTestPeriodic\n",
    "from scipy.io import loadmat\n",
    "\n",
    "\n",
    "import torch\n",
    "from torch.autograd import grad\n",
    "from itertools import combinations\n",
    "from functools import reduce\n",
    "from typing import Tuple\n",
    "from deepymod.utils.types import TensorList\n",
    "from deepymod import Library\n",
    "\n",
    "from scipy.integrate import odeint\n",
    "\n",
    "# Settings for reproducibility\n",
    "np.random.seed(40)\n",
    "torch.manual_seed(0)\n",
    "\n",
    "# Configuring GPU or CPU\n",
    "if False: #torch.cuda.is_available():\n",
    "    device = \"cuda\"\n",
    "else:\n",
    "    device = \"cpu\"\n",
    "print(device)"
   ]
  },
  {
   "cell_type": "markdown",
   "metadata": {},
   "source": [
    "Before we send the data into the Dataset format, create a plot to get an idea of the data:\n"
   ]
  },
  {
   "cell_type": "code",
   "execution_count": 14,
   "metadata": {},
   "outputs": [
    {
     "data": {
      "image/png": "[encoded data removed]",
      "text/plain": [
       "<Figure size 432x288 with 2 Axes>"
      ]
     },
     "metadata": {
      "needs_background": "light"
     },
     "output_type": "display_data"
    }
   ],
   "source": [
    "data = np.load('EWH_sim_NullFlow_CN_data.npy', allow_pickle=True).item()\n",
    "fig, ax = plt.subplots()\n",
    "im = ax.contourf(data['x'], data['t']/3600, np.real(data['u']))\n",
    "ax.set_xlabel('x(m)')\n",
    "ax.set_ylabel('t(h)')\n",
    "fig.colorbar(mappable=im)\n",
    "\n",
    "plt.show()"
   ]
  },
  {
   "cell_type": "markdown",
   "metadata": {},
   "source": [
    "We can now define a function that loads the data, makes torch tensors out of it and then returns it in a coords, data format. The shape of the samples will be (t,x) for the input and (u) for the dataset. Ensure that any array is not 1D, so an array with a single feature can be the shape (N,1) using reshape(-1,1) in numpy or unsqueeze(-1) in torch."
   ]
  },
  {
   "cell_type": "code",
   "execution_count": 15,
   "metadata": {},
   "outputs": [],
   "source": [
    "def load_data():\n",
    "    array = np.load('EWH_sim_NullFlow_CN_data.npy', allow_pickle=True).item()\n",
    "    coords = torch.from_numpy(np.stack((array[\"t\"],array[\"x\"]), axis=-1)).float()\n",
    "    data = torch.from_numpy(np.real(array[\"u\"])).unsqueeze(-1).float()\n",
    "    return coords, data"
   ]
  },
  {
   "cell_type": "markdown",
   "metadata": {},
   "source": [
    "First of all, We'll create a subclasse of Dataset(a custum version of the classe) which have Q and V as extra arguments"
   ]
  },
  {
   "cell_type": "code",
   "execution_count": 17,
   "metadata": {},
   "outputs": [
    {
     "ename": "SyntaxError",
     "evalue": "invalid syntax (393145568.py, line 41)",
     "output_type": "error",
     "traceback": [
      "\u001b[1;36m  Input \u001b[1;32mIn [17]\u001b[1;36m\u001b[0m\n\u001b[1;33m    subsampler: Subsampler = None,\u001b[0m\n\u001b[1;37m              ^\u001b[0m\n\u001b[1;31mSyntaxError\u001b[0m\u001b[1;31m:\u001b[0m invalid syntax\n"
     ]
    }
   ],
   "source": [
    "class Dataset_EWH(Dataset):\n",
    "    def __init__(\n",
    "        self,\n",
    "        load_function,\n",
    "        Q, \n",
    "        V,\n",
    "        apply_normalize=None,\n",
    "        apply_noise=None,\n",
    "        apply_shuffle=None,\n",
    "        shuffle=True,\n",
    "        subsampler: Subsampler = None,\n",
    "        load_kwargs: dict = {},\n",
    "        preprocess_kwargs: dict = {\n",
    "            \"random_state\": 42,\n",
    "            \"noise_level\": 0.0,\n",
    "            \"normalize_coords\": False,\n",
    "            \"normalize_data\": False,\n",
    "        },\n",
    "        subsampler_kwargs: dict = {},\n",
    "        device: str = None,\n",
    "    ):\n",
    "        '''\n",
    "        Same class as Dataset BUT, we'll introduce Q and V matrice for the prupose of our model\n",
    "        Args:\n",
    "            load_function (func):Must return torch tensors in the format coordinates, data\n",
    "            Q: Matrix containing the  value of Q(x,t) in a tensor form(same shape as u)\n",
    "            V: Matrix containing the  value of V(x,t)(even if V is the same along x) in a tensor form(same shape as u)\n",
    "            shuffle (bool, optional): Shuffle the data. Defaults to True.\n",
    "            apply_normalize (func)\n",
    "            subsampler (Subsampler, optional): Add some subsampling function. Defaults to None.\n",
    "            load_kwargs (dict, optional): kwargs to pass to the load_function. Defaults to {}.\n",
    "            preprocess_kwargs (dict, optional): (optional) arguments to pass to the preprocess method. Defaults to { \"random_state\": 42, \"noise_level\": 0.0, \"normalize_coords\": False, \"normalize_data\": False, }.\n",
    "            subsampler_kwargs (dict, optional): (optional) arguments to pass to the subsampler method. Defaults to {}.\n",
    "            device (str, optional): which device to send the data to. Defaults to None.\n",
    "        '''\n",
    "        super()._init_(\n",
    "        load_function,\n",
    "        apply_normalize=None,\n",
    "        apply_noise=None,\n",
    "        apply_shuffle=None,\n",
    "        shuffle=True,\n",
    "        subsampler: Subsampler = None,\n",
    "        load_kwargs: dict = {},\n",
    "        preprocess_kwargs: dict = {\n",
    "            \"random_state\": 42,\n",
    "            \"noise_level\": 0.0,\n",
    "            \"normalize_coords\": False,\n",
    "            \"normalize_data\": False,\n",
    "        },\n",
    "        subsampler_kwargs: dict = {},\n",
    "        device: str = None,\n",
    "        )\n",
    "\n",
    "        self.Q = Q\n",
    "        self.V = V\n",
    "        "
   ]
  },
  {
   "cell_type": "markdown",
   "metadata": {},
   "source": [
    "We can now pass the function that loads the data to the DeePyMoD Dataset module, which loads the data, preprocesses it, subsamples it and then sends it to the right device."
   ]
  },
  {
   "cell_type": "code",
   "execution_count": null,
   "metadata": {},
   "outputs": [
    {
     "name": "stdout",
     "output_type": "stream",
     "text": [
      "Dataset is using device:  cpu\n"
     ]
    }
   ],
   "source": [
    "Q = torch.from_numpy(np.real(data[\"Q\"])).unsqueeze(-1).float()\n",
    "V = torch.from_numpy(np.real(data[\"V\"])).unsqueeze(-1).float()\n",
    "\n",
    "dataset = Dataset_EWH(\n",
    "    load_data,\n",
    "    Q,V,\n",
    "    subsampler=Subsample_random,\n",
    "    subsampler_kwargs={\"number_of_samples\": 5000},\n",
    "    device=device,\n",
    ")"
   ]
  },
  {
   "cell_type": "markdown",
   "metadata": {},
   "source": [
    "Now we need to split our data into a train and test dataloaders for PyTorch"
   ]
  },
  {
   "cell_type": "code",
   "execution_count": null,
   "metadata": {},
   "outputs": [],
   "source": [
    "train_dataloader, test_dataloader = get_train_test_loader(dataset, train_test_split=0.8)"
   ]
  },
  {
   "cell_type": "markdown",
   "metadata": {},
   "source": [
    "# Setup a custom library\n",
    "\n",
    "In this cell we'll create a custom build library.The library function, $\\theta$, in this case contains $[1,u,u_x, u_xx, V*u_x, Q]$ . But how to insert Q and V in our dataset. We could think about a subclass of dataset were we'll add some extra arguments Huuuuuuuuuuuuuuuum.🤔🤔🤔"
   ]
  }
 ],
 "metadata": {
  "kernelspec": {
   "display_name": "Python 3.8.13 ('py38')",
   "language": "python",
   "name": "python3"
  },
  "language_info": {
   "codemirror_mode": {
    "name": "ipython",
    "version": 3
   },
   "file_extension": ".py",
   "mimetype": "text/x-python",
   "name": "python",
   "nbconvert_exporter": "python",
   "pygments_lexer": "ipython3",
   "version": "3.8.13"
  },
  "orig_nbformat": 4,
  "vscode": {
   "interpreter": {
    "hash": "8669bef76cc3be34fb1786b3a73f1aaa89fe0e7e221f4cb9254d705447b9109a"
   }
  }
 },
 "nbformat": 4,
 "nbformat_minor": 2
}
