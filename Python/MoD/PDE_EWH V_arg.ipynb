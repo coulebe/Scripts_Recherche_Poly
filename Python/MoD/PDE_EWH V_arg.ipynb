{
 "cells": [
  {
   "cell_type": "markdown",
   "metadata": {},
   "source": [
    "## Model discovery for PDE\n",
    "\n",
    "In this notebook we use the DeepMoD algorithm applied on the the PDE of an EWH. This version is just a test on the simulation datas. A final version will be developped when we have access to test bench again.\n",
    "\n",
    "We start by importing the required DeepMoD functions:"
   ]
  },
  {
   "cell_type": "code",
   "execution_count": 1,
   "metadata": {},
   "outputs": [
    {
     "name": "stdout",
     "output_type": "stream",
     "text": [
      "cuda\n"
     ]
    }
   ],
   "source": [
    "# General imports\n",
    "import numpy as np\n",
    "import torch\n",
    "import matplotlib.pylab as plt\n",
    "import tkinter as tk\n",
    "from tkinter import filedialog\n",
    "\n",
    "\n",
    "# DeepMoD functions\n",
    "\n",
    "\n",
    "from deepymod import DeepMoD\n",
    "from deepymod.data import Dataset, get_train_test_loader\n",
    "from deepymod.data.samples import Subsample_random\n",
    "from deepymod.model.func_approx import NN\n",
    "from deepymod.model.constraint import LeastSquares, GradParams, Ridge\n",
    "from deepymod.model.sparse_estimators import Threshold, PDEFIND\n",
    "from deepymod.training import train\n",
    "from deepymod.training.sparsity_scheduler import TrainTestPeriodic\n",
    "from scipy.io import loadmat\n",
    "\n",
    "\n",
    "import torch\n",
    "from torch.autograd import grad\n",
    "from itertools import combinations\n",
    "from functools import reduce\n",
    "from typing import Tuple\n",
    "from deepymod.utils.types import TensorList\n",
    "from deepymod import Library\n",
    "\n",
    "from scipy.integrate import odeint\n",
    "\n",
    "# Settings for reproducibility\n",
    "np.random.seed(40)\n",
    "torch.manual_seed(0)\n",
    "\n",
    "# Configuring GPU or CPU\n",
    "if torch.cuda.is_available():\n",
    "    device = \"cuda\"\n",
    "else:\n",
    "    device = \"cpu\"\n",
    "print(device)"
   ]
  },
  {
   "cell_type": "markdown",
   "metadata": {},
   "source": [
    "Before we send the data into the Dataset format, create a plot to get an idea of the data:\n"
   ]
  },
  {
   "cell_type": "code",
   "execution_count": 2,
   "metadata": {},
   "outputs": [
    {
     "data": {
      "image/png": "[encoded data removed]",
      "text/plain": [
       "<Figure size 640x480 with 2 Axes>"
      ]
     },
     "metadata": {},
     "output_type": "display_data"
    }
   ],
   "source": [
    "#Asking the filename to the user(It will be a .npy file for the moment we'll see after if we need to import other fomat as .mat or ohter, think of a preprocess script for the essay datas at Canmet)\n",
    "application_window = tk.Tk() \n",
    "fTyp = [(\"fichier de données (*.npy)\", \"*.npy\")]\n",
    "file_name = filedialog.askopenfilename(parent=application_window,\n",
    "                                    initialdir=os.getcwd(),\n",
    "                                    title=\"Please select your npy file containing the datas and its coords:\",\n",
    "                                    filetypes=fTyp)\n",
    "\n",
    "\n",
    "application_window.destroy()\n",
    "#Display the data \n",
    "data = np.load(file_name, allow_pickle=True).item()\n",
    "fig, ax = plt.subplots()\n",
    "im = ax.contourf(data['t']/3600, data['x'], np.real(data['u']))\n",
    "# V_grid = torch.from_numpy(data[\"V\"])\n",
    "# coords_grid = torch.from_numpy(np.stack((data[\"t\"],data[\"x\"]), axis=-1)).float()\n",
    "ax.set_xlabel('x(m)')\n",
    "ax.set_ylabel('t(h)')\n",
    "fig.colorbar(mappable=im)\n",
    "\n",
    "plt.show()"
   ]
  },
  {
   "cell_type": "markdown",
   "metadata": {},
   "source": [
    "We can now define a function that loads the data, makes torch tensors out of it and then returns it in a coords, data format. The shape of the samples will be (t,x) for the input and (u) for the dataset. Ensure that any array is not 1D, so an array with a single feature can be the shape (N,1) using reshape(-1,1) in numpy or unsqueeze(-1) in torch."
   ]
  },
  {
   "cell_type": "code",
   "execution_count": 3,
   "metadata": {},
   "outputs": [],
   "source": [
    "def load_data():\n",
    "    array = np.load(file_name, allow_pickle=True).item()\n",
    "    coords = torch.from_numpy(np.stack((array[\"t\"],array[\"x\"], array[\"V\"]), axis=-1)).float()\n",
    "    data = torch.from_numpy(np.real(array[\"u\"])).unsqueeze(-1).float()\n",
    "    return coords, data\n",
    "\n",
    "def custom_normalize(X):\n",
    "        \"\"\"minmax Normalize the data. Per feature\n",
    "        Args:\n",
    "            X (torch.tensor): data to be minmax normalized\n",
    "        Returns:\n",
    "            (torch.tensor): minmaxed data\"\"\"\n",
    "        X_norm = (X - X.view(-1, X.shape[-1]).min(dim=0).values) / (\n",
    "            X.view(-1, X.shape[-1]).max(dim=0).values\n",
    "            - X.view(-1, X.shape[-1]).min(dim=0).values\n",
    "        ) \n",
    "        return X_norm"
   ]
  },
  {
   "cell_type": "markdown",
   "metadata": {},
   "source": [
    "We can now pass the function that loads the data to the DeePyMoD Dataset module, which loads the data, preprocesses it, subsamples it and then sends it to the right device."
   ]
  },
  {
   "cell_type": "code",
   "execution_count": 4,
   "metadata": {},
   "outputs": [
    {
     "name": "stdout",
     "output_type": "stream",
     "text": [
      "Dataset is using device:  cuda\n"
     ]
    }
   ],
   "source": [
    "\n",
    "# V = torch.from_numpy(np.real(data[\"V\"])).unsqueeze(-1).float()\n",
    "\n",
    "dataset = Dataset(\n",
    "    load_data,\n",
    "    subsampler=Subsample_random,\n",
    "    subsampler_kwargs={\"number_of_samples\": 50000, \n",
    "    },\n",
    "     preprocess_kwargs={\n",
    "        \"normalize_coords\": True,\n",
    "        \"normalize_data\":  True,\n",
    "        \"noise_level\": 0.01,\n",
    "    },\n",
    "    device=device,\n",
    "    apply_normalize=custom_normalize,\n",
    ")\n",
    "\n"
   ]
  },
  {
   "cell_type": "markdown",
   "metadata": {},
   "source": [
    "Now we need to split our data into a train and test dataloaders for PyTorch"
   ]
  },
  {
   "cell_type": "code",
   "execution_count": 5,
   "metadata": {},
   "outputs": [],
   "source": [
    "train_dataloader, test_dataloader = get_train_test_loader(dataset, train_test_split=0.9)"
   ]
  },
  {
   "cell_type": "markdown",
   "metadata": {},
   "source": [
    "# Setup a custom library\n",
    "\n",
    "In this cell we'll create a custom build library."
   ]
  },
  {
   "cell_type": "code",
   "execution_count": 6,
   "metadata": {},
   "outputs": [],
   "source": [
    "from torch.autograd import grad\n",
    "from itertools import combinations, product\n",
    "from functools import reduce\n",
    "from deepymod.model.library import library_poly, library_deriv"
   ]
  },
  {
   "cell_type": "code",
   "execution_count": 7,
   "metadata": {},
   "outputs": [],
   "source": [
    "\n",
    "class Library_EWH(Library):\n",
    "    \"\"\"[summary]\n",
    "\n",
    "    Args:\n",
    "        Library ([type]): [description]\n",
    "    \"\"\"\n",
    "\n",
    "    def __init__(self, poly_order: int = 1) -> None:\n",
    "        \"\"\"Calculates the temporal derivative a library/feature matrix consisting of\n",
    "        1) polynomials up to order poly_order, i.e. u, u^2...\n",
    "        2) derivatives up to order diff_order, i.e. u_x, u_xx\n",
    "        3) cross terms of 1) and 2), i.e. $uu_x$, $u^2u_xx$\n",
    "\n",
    "        Order of terms is derivative first, i.e. [$1, u_x, u, uu_x, u^2, ...$]\n",
    "\n",
    "        Only works for 1D+1 data. Also works for multiple outputs but in that case doesn't calculate\n",
    "        polynomial and derivative cross terms.\n",
    "\n",
    "        Args:\n",
    "            poly_order (int): maximum order of the polynomial in the library\n",
    "            diff_order (int): maximum order of the differentials in the library\n",
    "        \"\"\"\n",
    "\n",
    "        super().__init__()\n",
    "        self.poly_order = poly_order\n",
    "        # self.diff_order = diff_order\n",
    "\n",
    "    def library(\n",
    "        self, input: Tuple[torch.Tensor, torch.Tensor]\n",
    "    ) -> Tuple[TensorList, TensorList]:\n",
    "        \"\"\"Compute a 2D library up to given polynomial order with second order derivatives\n",
    "         i.e. for poly_order=1: [$1, u_x, u_Q, u_{xx}, u_{QQ}, u_{xQ}, Q$] because is considered as an input of our neural network\n",
    "\n",
    "        Args:\n",
    "            input (Tuple[torch.Tensor, torch.Tensor]): A prediction u (n_samples, n_outputs) and spatiotemporal locations (n_samples, 3).(Q is the thrid input)\n",
    "\n",
    "        Returns:\n",
    "            Tuple[TensorList, TensorList]: The time derivatives and the thetas\n",
    "            computed from the library and data.\n",
    "        \"\"\"\n",
    "        prediction, data = input\n",
    "        # Polynomial\n",
    "\n",
    "        u = torch.ones_like(prediction)\n",
    "        for order in np.arange(1, self.poly_order + 1):\n",
    "            u = torch.cat((u, u[:, order - 1 : order] * prediction), dim=1)\n",
    "\n",
    "        # Gradients\n",
    "        du = grad(\n",
    "            prediction,\n",
    "            data,\n",
    "            grad_outputs=torch.ones_like(prediction),\n",
    "            create_graph=True,\n",
    "        )[0]\n",
    "        u_t = du[:, 0:1]\n",
    "        u_x = du[:, 1:2]\n",
    "\n",
    "        du2 = grad(\n",
    "            u_x, data, grad_outputs=torch.ones_like(prediction), create_graph=True\n",
    "        )[0]\n",
    "        u_xx = du2[:, 1:2]\n",
    "        \n",
    "        #We add V and multiply it time x\n",
    "        V = data[:, 2:3]\n",
    "\n",
    "\n",
    "        theta = torch.cat((torch.ones_like(prediction),  prediction,  u_x, u_xx, u_x * V), dim=1)\n",
    "\n",
    "\n",
    "        # theta = torch.cat((theta, data[:, 2:3]), dim=1) #We add Q in the library, at the end of theta\n",
    "        return [u_t], [theta]\n",
    "\n"
   ]
  },
  {
   "cell_type": "markdown",
   "metadata": {},
   "source": [
    "## Configuring DeepMoD\n",
    "\n",
    "Configuration of the function approximator: Here the first argument is the number of input and the last argument the number of output layers."
   ]
  },
  {
   "cell_type": "code",
   "execution_count": 8,
   "metadata": {},
   "outputs": [],
   "source": [
    "network = NN(3, [50, 50, 50, 50], 1)"
   ]
  },
  {
   "cell_type": "markdown",
   "metadata": {},
   "source": [
    "Configuration of the library function: We select the custom build library we created earlier\n",
    "* [$1, u, \\frac{\\partial u}{\\partial x}, \\frac{\\partial^{2} u}{\\partial x^{2}}, V \\frac{\\partial u}{\\partial x}$] "
   ]
  },
  {
   "cell_type": "code",
   "execution_count": 9,
   "metadata": {},
   "outputs": [],
   "source": [
    "library = Library_EWH(poly_order=1)"
   ]
  },
  {
   "cell_type": "markdown",
   "metadata": {},
   "source": [
    "Configuration of the sparsity estimator and sparsity scheduler used. In this case we use the most basic threshold-based Lasso estimator and a scheduler that asseses the validation loss after a given patience. If that value is smaller than 1e-8, the algorithm is converged."
   ]
  },
  {
   "cell_type": "code",
   "execution_count": 10,
   "metadata": {},
   "outputs": [],
   "source": [
    "estimator = Threshold(1e-5)\n",
    "sparsity_scheduler = TrainTestPeriodic(periodicity=50, patience=200, delta=1e-7)"
   ]
  },
  {
   "cell_type": "markdown",
   "metadata": {},
   "source": [
    "Configuration of the sparsity estimator"
   ]
  },
  {
   "cell_type": "code",
   "execution_count": 11,
   "metadata": {},
   "outputs": [],
   "source": [
    "constraint = LeastSquares()"
   ]
  },
  {
   "cell_type": "markdown",
   "metadata": {},
   "source": [
    "Now, we instantiate the model and select the optimizer"
   ]
  },
  {
   "cell_type": "code",
   "execution_count": 12,
   "metadata": {},
   "outputs": [],
   "source": [
    "model = DeepMoD(network, library, estimator, constraint).to(device)"
   ]
  },
  {
   "cell_type": "markdown",
   "metadata": {},
   "source": [
    "Defining optimizer"
   ]
  },
  {
   "cell_type": "code",
   "execution_count": 13,
   "metadata": {},
   "outputs": [],
   "source": [
    "optimizer = torch.optim.Adam(\n",
    "    model.parameters(), betas=(0.99, 0.99), amsgrad=True, lr=1e-3\n",
    ")"
   ]
  },
  {
   "cell_type": "markdown",
   "metadata": {},
   "source": [
    "## Run DeepMoD\n",
    "\n",
    "We can now run DeepMoD using all the options we have set and the training data. We need to slightly preprocess the input data for the derivatives:"
   ]
  },
  {
   "cell_type": "code",
   "execution_count": 14,
   "metadata": {},
   "outputs": [
    {
     "name": "stdout",
     "output_type": "stream",
     "text": [
      " 99975  MSE: 3.54e-05  Reg: 3.68e-06  L1: 1.40e+00 Algorithm converged. Writing model to disk.\n"
     ]
    }
   ],
   "source": [
    "train(\n",
    "    model,\n",
    "    train_dataloader,\n",
    "    test_dataloader,\n",
    "    optimizer,\n",
    "    sparsity_scheduler,\n",
    "    log_dir=\"/data/deepymod/coupled_new/\",\n",
    "    max_iterations=100000,\n",
    "    delta=1e-7,\n",
    "    patience=200\n",
    ")"
   ]
  },
  {
   "cell_type": "markdown",
   "metadata": {},
   "source": [
    "Now that DeepMoD has converged, it has found the following coefficients to not be zero: "
   ]
  },
  {
   "cell_type": "code",
   "execution_count": 15,
   "metadata": {},
   "outputs": [
    {
     "data": {
      "text/plain": [
       "[tensor([ True,  True, False,  True,  True], device='cuda:0')]"
      ]
     },
     "execution_count": 15,
     "metadata": {},
     "output_type": "execute_result"
    }
   ],
   "source": [
    "model.sparsity_masks"
   ]
  },
  {
   "cell_type": "markdown",
   "metadata": {},
   "source": [
    "And it found the following coefficients."
   ]
  },
  {
   "cell_type": "code",
   "execution_count": 16,
   "metadata": {},
   "outputs": [
    {
     "data": {
      "text/plain": [
       "[array([[ 0.02494102],\n",
       "        [-0.04432516],\n",
       "        [ 0.        ],\n",
       "        [ 0.42543557],\n",
       "        [-0.89172524]], dtype=float32)]"
      ]
     },
     "execution_count": 16,
     "metadata": {},
     "output_type": "execute_result"
    }
   ],
   "source": [
    "model.estimator_coeffs()"
   ]
  },
  {
   "cell_type": "markdown",
   "metadata": {},
   "source": [
    "Then the absolute value of the coefficients\n",
    "* [$1, u, \\frac{\\partial u}{\\partial x}, \\frac{\\partial^{2} u}{\\partial x^{2}}, V \\frac{\\partial u}{\\partial x}$] \n"
   ]
  },
  {
   "cell_type": "code",
   "execution_count": 17,
   "metadata": {},
   "outputs": [
    {
     "name": "stdout",
     "output_type": "stream",
     "text": [
      "[ 0.06051281 -0.20618296  0.          0.32842836 -4.258001  ]\n"
     ]
    }
   ],
   "source": [
    "print(model.library.norms[0].cpu().numpy() * model.estimator_coeffs()[0][:,0])\n",
    "coeff_norm = model.library.norms[0].cpu().numpy() * model.estimator_coeffs()[0][:,0]"
   ]
  },
  {
   "cell_type": "markdown",
   "metadata": {},
   "source": [
    "We have now to denormalize it a second time because, we just have the relation for the normalized(data and coords) terms of the equation"
   ]
  },
  {
   "cell_type": "code",
   "execution_count": 18,
   "metadata": {},
   "outputs": [
    {
     "name": "stdout",
     "output_type": "stream",
     "text": [
      "[ 4.04029008e-04 -1.14546083e-05  0.00000000e+00  2.58381912e-05\n",
      " -1.05976903e+00]\n"
     ]
    }
   ],
   "source": [
    "coords, data = load_data()\n",
    "T_min, T_max = data.view(-1, data.shape[-1]).min(dim=0).values.numpy(), data.view(-1, data.shape[-1]).max(dim=0).values.numpy()\n",
    "t_min, t_max = coords[0, :, 0].min(dim = 0).values.numpy(), coords[0, :, 0].max(dim = 0).values.numpy()\n",
    "x_min, x_max = coords[:, 0, 1].min(dim = 0).values.numpy(), coords[:, 0, 1].max(dim = 0).values.numpy()\n",
    "V_min, V_max = coords[:, :, 0].view(-1, 1).min(dim = 0).values.numpy(), coords[:, :, 2].view(-1, 1).max(dim = 0).values.numpy()\n",
    "\n",
    "\n",
    "#%%\n",
    "\n",
    "result = np.zeros(5)\n",
    "# ##If we use the basic normalization\n",
    "\n",
    "# result[0] = (coeff_norm[0]*(T_max - T_min) - coeff_norm[1]*(T_max + T_min)) / (t_max-t_min)\n",
    "\n",
    "# result[1] = 2*coeff_norm[1] / (t_max-t_min)\n",
    "\n",
    "# result[2] = (coeff_norm[2] - coeff_norm[4]*(V_max+V_min)/(V_max - V_min)) * (x_max - x_min) / (t_max-t_min)\n",
    "\n",
    "# result[3] = (coeff_norm[3]/2) * ((x_max - x_min)**2) / (t_max-t_min)\n",
    "\n",
    "# result[4] = 2 * coeff_norm[4]*(x_max - x_min) / ((t_max-t_min) * (V_max - V_min))\n",
    "\n",
    "\n",
    "##If we use the customized normalization\n",
    "result[0] = (coeff_norm[0]*(T_max - T_min) - coeff_norm[1]*T_min) / (t_max-t_min)\n",
    "\n",
    "result[1] = coeff_norm[1] / (t_max-t_min)\n",
    "\n",
    "result[2] = (coeff_norm[2] - coeff_norm[4]*V_min/(V_max - V_min)) * (x_max - x_min) / (t_max-t_min)\n",
    "\n",
    "result[3] = (coeff_norm[3]) * ((x_max - x_min)**2) / (t_max-t_min)\n",
    "\n",
    "result[4] = coeff_norm[4]*(x_max - x_min) / ((t_max-t_min) * (V_max - V_min))\n",
    "\n",
    "print(result)\n"
   ]
  }
 ],
 "metadata": {
  "kernelspec": {
   "display_name": "Python 3.8.13 ('py38')",
   "language": "python",
   "name": "python3"
  },
  "language_info": {
   "codemirror_mode": {
    "name": "ipython",
    "version": 3
   },
   "file_extension": ".py",
   "mimetype": "text/x-python",
   "name": "python",
   "nbconvert_exporter": "python",
   "pygments_lexer": "ipython3",
   "version": "3.8.13"
  },
  "orig_nbformat": 4,
  "vscode": {
   "interpreter": {
    "hash": "5ab16ecb9e09b4be58fd311ca68db391fee701f68d8b096f7dd82119d0e71b06"
   }
  }
 },
 "nbformat": 4,
 "nbformat_minor": 2
}
